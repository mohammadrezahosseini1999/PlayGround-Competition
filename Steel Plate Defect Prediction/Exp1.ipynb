{
 "cells": [
  {
   "cell_type": "code",
   "execution_count": 28,
   "id": "19025bdc",
   "metadata": {},
   "outputs": [],
   "source": [
    "import pandas as pd\n",
    "import numpy as np\n",
    "\n",
    "import seaborn as sns\n",
    "import matplotlib.pyplot as plt\n",
    "\n",
    "from sklearn.model_selection import train_test_split, StratifiedKFold\n",
    "from sklearn.preprocessing import MinMaxScaler\n",
    "\n",
    "from sklearn.metrics import accuracy_score, f1_score\n",
    "\n",
    "from xgboost import XGBClassifier\n",
    "from sklearn.ensemble import *\n",
    "\n",
    "import optuna\n",
    "from sklearn.model_selection import cross_val_score\n",
    "\n",
    "from sklearn.multioutput import MultiOutputClassifier"
   ]
  },
  {
   "cell_type": "code",
   "execution_count": 2,
   "id": "d8f03442",
   "metadata": {},
   "outputs": [
    {
     "data": {
      "text/plain": [
       "((19219, 35), (12814, 28), (12814, 8))"
      ]
     },
     "execution_count": 2,
     "metadata": {},
     "output_type": "execute_result"
    }
   ],
   "source": [
    "train = pd.read_csv('train.csv')\n",
    "test = pd.read_csv('test.csv')\n",
    "submission = pd.read_csv('sample_submission.csv')\n",
    "\n",
    "\n",
    "train.shape, test.shape, submission.shape"
   ]
  },
  {
   "cell_type": "code",
   "execution_count": 5,
   "id": "062ef02c",
   "metadata": {},
   "outputs": [
    {
     "data": {
      "text/plain": [
       "Index(['id', 'X_Minimum', 'X_Maximum', 'Y_Minimum', 'Y_Maximum',\n",
       "       'Pixels_Areas', 'X_Perimeter', 'Y_Perimeter', 'Sum_of_Luminosity',\n",
       "       'Minimum_of_Luminosity', 'Maximum_of_Luminosity', 'Length_of_Conveyer',\n",
       "       'TypeOfSteel_A300', 'TypeOfSteel_A400', 'Steel_Plate_Thickness',\n",
       "       'Edges_Index', 'Empty_Index', 'Square_Index', 'Outside_X_Index',\n",
       "       'Edges_X_Index', 'Edges_Y_Index', 'Outside_Global_Index', 'LogOfAreas',\n",
       "       'Log_X_Index', 'Log_Y_Index', 'Orientation_Index', 'Luminosity_Index',\n",
       "       'SigmoidOfAreas', 'Pastry', 'Z_Scratch', 'K_Scatch', 'Stains',\n",
       "       'Dirtiness', 'Bumps', 'Other_Faults'],\n",
       "      dtype='object')"
      ]
     },
     "execution_count": 5,
     "metadata": {},
     "output_type": "execute_result"
    }
   ],
   "source": [
    "train.columns"
   ]
  },
  {
   "cell_type": "code",
   "execution_count": 6,
   "id": "f573f406",
   "metadata": {},
   "outputs": [],
   "source": [
    "target_classes = ['Pastry', 'Z_Scratch', 'K_Scatch', 'Stains', 'Dirtiness', 'Bumps', 'Other_Faults']\n",
    "targets_bin = train[target_classes]"
   ]
  },
  {
   "cell_type": "code",
   "execution_count": 7,
   "id": "0df99837",
   "metadata": {},
   "outputs": [],
   "source": [
    "X_train = train.drop(target_classes, axis=1)"
   ]
  },
  {
   "cell_type": "code",
   "execution_count": 8,
   "id": "40f08a97",
   "metadata": {},
   "outputs": [
    {
     "data": {
      "text/plain": [
       "(19219,)"
      ]
     },
     "execution_count": 8,
     "metadata": {},
     "output_type": "execute_result"
    }
   ],
   "source": [
    "target = targets_bin @ (np.arange(targets_bin.shape[1]) + 1)\n",
    "target[targets_bin.sum(axis=1)==2] = 2\n",
    "target.shape"
   ]
  },
  {
   "cell_type": "code",
   "execution_count": 9,
   "id": "7b78eea5",
   "metadata": {},
   "outputs": [],
   "source": [
    "train = np.array(train)"
   ]
  },
  {
   "cell_type": "code",
   "execution_count": 16,
   "id": "0cfbcbb1",
   "metadata": {},
   "outputs": [
    {
     "data": {
      "text/plain": [
       "((14414, 28), (14414,))"
      ]
     },
     "execution_count": 16,
     "metadata": {},
     "output_type": "execute_result"
    }
   ],
   "source": [
    "x_train, x_valid, y_train, y_valid = train_test_split(X_train, target, stratify=target, test_size=0.25, random_state=2024)\n",
    "\n",
    "x_train.shape, y_train.shape"
   ]
  },
  {
   "cell_type": "code",
   "execution_count": null,
   "id": "bc402d03",
   "metadata": {},
   "outputs": [],
   "source": [
    "clf = RandomForestClassifier()\n",
    "model = MultiOutputClassifier(clf, n_jobs=-1)"
   ]
  },
  {
   "cell_type": "code",
   "execution_count": 17,
   "id": "9ec3c05e",
   "metadata": {},
   "outputs": [],
   "source": [
    "def objective(trial):\n",
    "        params = {\n",
    "        'n_estimators' : trial.suggest_int('n_estimators', 100, 400, step=25),\n",
    "        'max_depth' : trial.suggest_int('max_depth', 15, 50),\n",
    "        'max_features' : trial.suggest_float('max_features', 0.1, 0.9),\n",
    "        'max_samples' : trial.suggest_float('max_samples', 0.5, 0.9),\n",
    "        }\n",
    "        model = RandomForestClassifier(random_state=2024, n_jobs=-1, **params)\n",
    "        model.fit(x_train, y_train.ravel())\n",
    "        yhat = model.predict(x_valid)\n",
    "        f1 = f1_score(y_valid, yhat, average='weighted')\n",
    "        return f1   "
   ]
  },
  {
   "cell_type": "code",
   "execution_count": 18,
   "id": "4a33c75f",
   "metadata": {},
   "outputs": [
    {
     "name": "stderr",
     "output_type": "stream",
     "text": [
      "[I 2024-03-29 08:47:27,732] A new study created in memory with name: no-name-d3fa50af-b56b-47be-829b-1013b405a742\n",
      "[I 2024-03-29 08:47:42,033] Trial 0 finished with value: 0.5415779386318661 and parameters: {'n_estimators': 225, 'max_depth': 34, 'max_features': 0.4404206238834436, 'max_samples': 0.828466056247344}. Best is trial 0 with value: 0.5415779386318661.\n",
      "[I 2024-03-29 08:47:48,110] Trial 1 finished with value: 0.5390835706047437 and parameters: {'n_estimators': 250, 'max_depth': 36, 'max_features': 0.19947775890369412, 'max_samples': 0.5647867931315}. Best is trial 1 with value: 0.5390835706047437.\n",
      "[I 2024-03-29 08:47:59,408] Trial 2 finished with value: 0.5402720835616844 and parameters: {'n_estimators': 200, 'max_depth': 17, 'max_features': 0.397309162383073, 'max_samples': 0.8440493403963685}. Best is trial 1 with value: 0.5390835706047437.\n",
      "[I 2024-03-29 08:48:06,355] Trial 3 finished with value: 0.5439389587397817 and parameters: {'n_estimators': 150, 'max_depth': 33, 'max_features': 0.35875294554221415, 'max_samples': 0.5164950610419403}. Best is trial 1 with value: 0.5390835706047437.\n",
      "[I 2024-03-29 08:48:19,226] Trial 4 finished with value: 0.5404255635761852 and parameters: {'n_estimators': 150, 'max_depth': 34, 'max_features': 0.5695355944973536, 'max_samples': 0.6698526818944437}. Best is trial 1 with value: 0.5390835706047437.\n",
      "[I 2024-03-29 08:48:38,246] Trial 5 finished with value: 0.5438366674912707 and parameters: {'n_estimators': 350, 'max_depth': 32, 'max_features': 0.3206002876760251, 'max_samples': 0.8350658773141274}. Best is trial 1 with value: 0.5390835706047437.\n",
      "[I 2024-03-29 08:49:21,928] Trial 6 finished with value: 0.5403459040297038 and parameters: {'n_estimators': 375, 'max_depth': 46, 'max_features': 0.8709397609086025, 'max_samples': 0.5900112102655732}. Best is trial 1 with value: 0.5390835706047437.\n",
      "[I 2024-03-29 08:49:24,469] Trial 7 finished with value: 0.5342847695785555 and parameters: {'n_estimators': 125, 'max_depth': 19, 'max_features': 0.17572013736797498, 'max_samples': 0.5259656551964745}. Best is trial 7 with value: 0.5342847695785555.\n",
      "[I 2024-03-29 08:49:36,919] Trial 8 finished with value: 0.541247823377171 and parameters: {'n_estimators': 250, 'max_depth': 37, 'max_features': 0.31779015347804906, 'max_samples': 0.7579611138187321}. Best is trial 7 with value: 0.5342847695785555.\n",
      "[I 2024-03-29 08:49:45,693] Trial 9 finished with value: 0.544898150809987 and parameters: {'n_estimators': 125, 'max_depth': 24, 'max_features': 0.43390886125742956, 'max_samples': 0.7192718197999471}. Best is trial 7 with value: 0.5342847695785555.\n",
      "[I 2024-03-29 08:49:47,178] Trial 10 finished with value: 0.5329080803413107 and parameters: {'n_estimators': 100, 'max_depth': 15, 'max_features': 0.11087778829201497, 'max_samples': 0.6267387593815608}. Best is trial 10 with value: 0.5329080803413107.\n",
      "[I 2024-03-29 08:49:48,665] Trial 11 finished with value: 0.5314652444334417 and parameters: {'n_estimators': 100, 'max_depth': 15, 'max_features': 0.11779677438312244, 'max_samples': 0.6179088102120611}. Best is trial 11 with value: 0.5314652444334417.\n",
      "[I 2024-03-29 08:49:50,114] Trial 12 finished with value: 0.5257607943276896 and parameters: {'n_estimators': 100, 'max_depth': 23, 'max_features': 0.10074256444840124, 'max_samples': 0.6468679663949485}. Best is trial 12 with value: 0.5257607943276896.\n",
      "[I 2024-03-29 08:50:05,641] Trial 13 finished with value: 0.5411576013655814 and parameters: {'n_estimators': 175, 'max_depth': 24, 'max_features': 0.6219271988840752, 'max_samples': 0.6509126961913172}. Best is trial 12 with value: 0.5257607943276896.\n",
      "[I 2024-03-29 08:50:09,357] Trial 14 finished with value: 0.539968199347056 and parameters: {'n_estimators': 100, 'max_depth': 23, 'max_features': 0.22302582675676885, 'max_samples': 0.7360765761504283}. Best is trial 12 with value: 0.5257607943276896.\n",
      "[I 2024-03-29 08:50:39,524] Trial 15 finished with value: 0.5413619148914305 and parameters: {'n_estimators': 300, 'max_depth': 27, 'max_features': 0.757211548155091, 'max_samples': 0.6021844494559411}. Best is trial 12 with value: 0.5257607943276896.\n",
      "[I 2024-03-29 08:50:45,033] Trial 16 finished with value: 0.5360360729004445 and parameters: {'n_estimators': 300, 'max_depth': 20, 'max_features': 0.12935989870600972, 'max_samples': 0.6740515795093668}. Best is trial 12 with value: 0.5257607943276896.\n",
      "[I 2024-03-29 08:50:51,871] Trial 17 finished with value: 0.539383302993775 and parameters: {'n_estimators': 175, 'max_depth': 28, 'max_features': 0.24663965088614392, 'max_samples': 0.7824059091533216}. Best is trial 12 with value: 0.5257607943276896.\n",
      "[I 2024-03-29 08:50:53,572] Trial 18 finished with value: 0.5272788851202426 and parameters: {'n_estimators': 100, 'max_depth': 43, 'max_features': 0.1030804313611683, 'max_samples': 0.6966871307373147}. Best is trial 12 with value: 0.5257607943276896.\n",
      "[I 2024-03-29 08:51:20,603] Trial 19 finished with value: 0.5431666078012237 and parameters: {'n_estimators': 300, 'max_depth': 47, 'max_features': 0.5348061749179381, 'max_samples': 0.8911247001430054}. Best is trial 12 with value: 0.5257607943276896.\n",
      "[I 2024-03-29 08:51:41,118] Trial 20 finished with value: 0.5455954683286308 and parameters: {'n_estimators': 200, 'max_depth': 41, 'max_features': 0.7112824387081362, 'max_samples': 0.6961400758230529}. Best is trial 12 with value: 0.5257607943276896.\n",
      "[I 2024-03-29 08:51:42,686] Trial 21 finished with value: 0.531347804263353 and parameters: {'n_estimators': 100, 'max_depth': 42, 'max_features': 0.10089912363078363, 'max_samples': 0.6370506469944165}. Best is trial 12 with value: 0.5257607943276896.\n",
      "[I 2024-03-29 08:51:47,649] Trial 22 finished with value: 0.5391325702904024 and parameters: {'n_estimators': 125, 'max_depth': 42, 'max_features': 0.2806673096750966, 'max_samples': 0.6500815555501033}. Best is trial 12 with value: 0.5257607943276896.\n",
      "[I 2024-03-29 08:51:51,567] Trial 23 finished with value: 0.5330808028265892 and parameters: {'n_estimators': 150, 'max_depth': 50, 'max_features': 0.18215216510038662, 'max_samples': 0.5557070643362898}. Best is trial 12 with value: 0.5257607943276896.\n",
      "[I 2024-03-29 08:51:53,629] Trial 24 finished with value: 0.5337831355306066 and parameters: {'n_estimators': 100, 'max_depth': 40, 'max_features': 0.10998245446648292, 'max_samples': 0.6934610597153176}. Best is trial 12 with value: 0.5257607943276896.\n",
      "[I 2024-03-29 08:52:01,176] Trial 25 finished with value: 0.5437836621491627 and parameters: {'n_estimators': 175, 'max_depth': 45, 'max_features': 0.26320778858910454, 'max_samples': 0.7659465880631895}. Best is trial 12 with value: 0.5257607943276896.\n",
      "[I 2024-03-29 08:52:04,727] Trial 26 finished with value: 0.541719470964436 and parameters: {'n_estimators': 125, 'max_depth': 30, 'max_features': 0.18640282289848759, 'max_samples': 0.6457536755528248}. Best is trial 12 with value: 0.5257607943276896.\n",
      "[I 2024-03-29 08:52:08,619] Trial 27 finished with value: 0.5398514041330985 and parameters: {'n_estimators': 150, 'max_depth': 38, 'max_features': 0.16588471320019127, 'max_samples': 0.7198247139617322}. Best is trial 12 with value: 0.5257607943276896.\n",
      "[I 2024-03-29 08:52:12,660] Trial 28 finished with value: 0.5375945048167392 and parameters: {'n_estimators': 100, 'max_depth': 43, 'max_features': 0.29656937559051766, 'max_samples': 0.5794553822618932}. Best is trial 12 with value: 0.5257607943276896.\n",
      "[I 2024-03-29 08:52:29,016] Trial 29 finished with value: 0.5442324133315889 and parameters: {'n_estimators': 225, 'max_depth': 48, 'max_features': 0.4537169363854546, 'max_samples': 0.7994279207813442}. Best is trial 12 with value: 0.5257607943276896.\n",
      "[I 2024-03-29 08:52:35,850] Trial 30 finished with value: 0.5424884759833453 and parameters: {'n_estimators': 200, 'max_depth': 44, 'max_features': 0.23637153750463658, 'max_samples': 0.676596695986693}. Best is trial 12 with value: 0.5257607943276896.\n",
      "[I 2024-03-29 08:52:37,637] Trial 31 finished with value: 0.5313149868937803 and parameters: {'n_estimators': 100, 'max_depth': 21, 'max_features': 0.11189098119767416, 'max_samples': 0.6183668121429132}. Best is trial 12 with value: 0.5257607943276896.\n"
     ]
    },
    {
     "name": "stderr",
     "output_type": "stream",
     "text": [
      "[I 2024-03-29 08:52:40,498] Trial 32 finished with value: 0.538754901241109 and parameters: {'n_estimators': 125, 'max_depth': 21, 'max_features': 0.15259334492527052, 'max_samples': 0.6264572347776736}. Best is trial 12 with value: 0.5257607943276896.\n",
      "[I 2024-03-29 08:52:42,268] Trial 33 finished with value: 0.5311809215954747 and parameters: {'n_estimators': 100, 'max_depth': 27, 'max_features': 0.11622742590282027, 'max_samples': 0.5396958608620884}. Best is trial 12 with value: 0.5257607943276896.\n",
      "[I 2024-03-29 08:52:46,114] Trial 34 finished with value: 0.5385968526801702 and parameters: {'n_estimators': 150, 'max_depth': 28, 'max_features': 0.21027942987536316, 'max_samples': 0.5506407077655359}. Best is trial 12 with value: 0.5257607943276896.\n",
      "[I 2024-03-29 08:52:51,357] Trial 35 finished with value: 0.5438017306447521 and parameters: {'n_estimators': 125, 'max_depth': 26, 'max_features': 0.3442950698556836, 'max_samples': 0.5369701793166474}. Best is trial 12 with value: 0.5257607943276896.\n",
      "[I 2024-03-29 08:52:57,904] Trial 36 finished with value: 0.5452059139172085 and parameters: {'n_estimators': 150, 'max_depth': 18, 'max_features': 0.385310208632096, 'max_samples': 0.573254978709006}. Best is trial 12 with value: 0.5257607943276896.\n",
      "[I 2024-03-29 08:52:59,871] Trial 37 finished with value: 0.5340825104463665 and parameters: {'n_estimators': 100, 'max_depth': 22, 'max_features': 0.15065933285934402, 'max_samples': 0.5010164877136996}. Best is trial 12 with value: 0.5257607943276896.\n",
      "[I 2024-03-29 08:53:05,898] Trial 38 finished with value: 0.5404592800072494 and parameters: {'n_estimators': 225, 'max_depth': 31, 'max_features': 0.2093468497159917, 'max_samples': 0.601183824511746}. Best is trial 12 with value: 0.5257607943276896.\n",
      "[I 2024-03-29 08:53:53,841] Trial 39 finished with value: 0.5477263231846439 and parameters: {'n_estimators': 400, 'max_depth': 25, 'max_features': 0.896857949308167, 'max_samples': 0.6045540347633116}. Best is trial 12 with value: 0.5257607943276896.\n",
      "[I 2024-03-29 08:54:07,039] Trial 40 finished with value: 0.5415206715286717 and parameters: {'n_estimators': 325, 'max_depth': 34, 'max_features': 0.27454352607858346, 'max_samples': 0.7152914721796075}. Best is trial 12 with value: 0.5257607943276896.\n",
      "[I 2024-03-29 08:54:09,001] Trial 41 finished with value: 0.5431599933684059 and parameters: {'n_estimators': 100, 'max_depth': 39, 'max_features': 0.11303435090201606, 'max_samples': 0.6623963847075371}. Best is trial 12 with value: 0.5257607943276896.\n",
      "[I 2024-03-29 08:54:11,938] Trial 42 finished with value: 0.5396823568258617 and parameters: {'n_estimators': 125, 'max_depth': 29, 'max_features': 0.1495756776180578, 'max_samples': 0.6344438586623629}. Best is trial 12 with value: 0.5257607943276896.\n",
      "[I 2024-03-29 08:54:13,450] Trial 43 finished with value: 0.5264223919162239 and parameters: {'n_estimators': 100, 'max_depth': 36, 'max_features': 0.10222612936397578, 'max_samples': 0.6789869386416297}. Best is trial 12 with value: 0.5257607943276896.\n",
      "[I 2024-03-29 08:54:17,963] Trial 44 finished with value: 0.5387811310829332 and parameters: {'n_estimators': 150, 'max_depth': 36, 'max_features': 0.1895559819819691, 'max_samples': 0.6865621801828617}. Best is trial 12 with value: 0.5257607943276896.\n",
      "[I 2024-03-29 08:54:20,683] Trial 45 finished with value: 0.5357119171248043 and parameters: {'n_estimators': 125, 'max_depth': 17, 'max_features': 0.14793247689518207, 'max_samples': 0.7141431340280081}. Best is trial 12 with value: 0.5257607943276896.\n",
      "[I 2024-03-29 08:54:22,289] Trial 46 finished with value: 0.5318695901044637 and parameters: {'n_estimators': 100, 'max_depth': 32, 'max_features': 0.10436763945161016, 'max_samples': 0.7355999690420133}. Best is trial 12 with value: 0.5257607943276896.\n",
      "[I 2024-03-29 08:54:27,200] Trial 47 finished with value: 0.5388608686551196 and parameters: {'n_estimators': 175, 'max_depth': 22, 'max_features': 0.20106125591012214, 'max_samples': 0.6641469300873235}. Best is trial 12 with value: 0.5257607943276896.\n",
      "[I 2024-03-29 08:54:29,163] Trial 48 finished with value: 0.5368005739656393 and parameters: {'n_estimators': 125, 'max_depth': 20, 'max_features': 0.13801869854977195, 'max_samples': 0.5287247186236858}. Best is trial 12 with value: 0.5257607943276896.\n",
      "[I 2024-03-29 08:54:32,443] Trial 49 finished with value: 0.5391003729242672 and parameters: {'n_estimators': 100, 'max_depth': 35, 'max_features': 0.2403276534469444, 'max_samples': 0.6126242626933267}. Best is trial 12 with value: 0.5257607943276896.\n"
     ]
    }
   ],
   "source": [
    "study = optuna.create_study()\n",
    "study.optimize(objective, n_trials=50)"
   ]
  },
  {
   "cell_type": "code",
   "execution_count": 26,
   "id": "c33f8573",
   "metadata": {},
   "outputs": [
    {
     "name": "stdout",
     "output_type": "stream",
     "text": [
      "f1-score: 0.5257607943276896, accuracy_score: 0.5529656607700312\n"
     ]
    }
   ],
   "source": [
    "clf = RandomForestClassifier(n_estimators=100,\n",
    "                             max_depth=23, max_features=0.10074256444840124, max_samples=0.6468679663949485,\n",
    "                             random_state=2024, n_jobs=-1)\n",
    "clf.fit(x_train, y_train.ravel())\n",
    "yhat = clf.predict(x_valid)\n",
    "f1 = f1_score(y_valid, yhat, average='weighted')\n",
    "acc_score = accuracy_score(y_valid, yhat)\n",
    "print(f'f1-score: {f1}, accuracy_score: {acc_score}')"
   ]
  },
  {
   "cell_type": "code",
   "execution_count": null,
   "id": "1522a639",
   "metadata": {},
   "outputs": [],
   "source": []
  }
 ],
 "metadata": {
  "kernelspec": {
   "display_name": "Python 3 (ipykernel)",
   "language": "python",
   "name": "python3"
  },
  "language_info": {
   "codemirror_mode": {
    "name": "ipython",
    "version": 3
   },
   "file_extension": ".py",
   "mimetype": "text/x-python",
   "name": "python",
   "nbconvert_exporter": "python",
   "pygments_lexer": "ipython3",
   "version": "3.11.5"
  }
 },
 "nbformat": 4,
 "nbformat_minor": 5
}
