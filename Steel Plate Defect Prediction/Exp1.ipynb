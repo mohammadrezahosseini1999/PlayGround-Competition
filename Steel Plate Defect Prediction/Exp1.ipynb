{
 "cells": [
  {
   "cell_type": "code",
   "execution_count": 2,
   "id": "19025bdc",
   "metadata": {},
   "outputs": [],
   "source": [
    "import pandas as pd\n",
    "import numpy as np\n",
    "\n",
    "import seaborn as sns\n",
    "import matplotlib.pyplot as plt\n",
    "\n",
    "from sklearn.model_selection import train_test_split, StratifiedKFold\n",
    "from sklearn.preprocessing import MinMaxScaler\n",
    "\n",
    "from sklearn.metrics import accuracy_score, f1_score\n",
    "\n",
    "from xgboost import XGBClassifier\n",
    "from sklearn.ensemble import *\n",
    "\n",
    "import optuna\n",
    "from sklearn.model_selection import cross_val_score"
   ]
  },
  {
   "cell_type": "code",
   "execution_count": 3,
   "id": "d8f03442",
   "metadata": {},
   "outputs": [
    {
     "data": {
      "text/plain": [
       "((19219, 35), (12814, 28), (12814, 8))"
      ]
     },
     "execution_count": 3,
     "metadata": {},
     "output_type": "execute_result"
    }
   ],
   "source": [
    "train = pd.read_csv('train.csv')\n",
    "test = pd.read_csv('test.csv')\n",
    "submission = pd.read_csv('sample_submission.csv')\n",
    "\n",
    "\n",
    "train.shape, test.shape, submission.shape"
   ]
  },
  {
   "cell_type": "code",
   "execution_count": 4,
   "id": "062ef02c",
   "metadata": {},
   "outputs": [
    {
     "data": {
      "text/plain": [
       "Index(['id', 'X_Minimum', 'X_Maximum', 'Y_Minimum', 'Y_Maximum',\n",
       "       'Pixels_Areas', 'X_Perimeter', 'Y_Perimeter', 'Sum_of_Luminosity',\n",
       "       'Minimum_of_Luminosity', 'Maximum_of_Luminosity', 'Length_of_Conveyer',\n",
       "       'TypeOfSteel_A300', 'TypeOfSteel_A400', 'Steel_Plate_Thickness',\n",
       "       'Edges_Index', 'Empty_Index', 'Square_Index', 'Outside_X_Index',\n",
       "       'Edges_X_Index', 'Edges_Y_Index', 'Outside_Global_Index', 'LogOfAreas',\n",
       "       'Log_X_Index', 'Log_Y_Index', 'Orientation_Index', 'Luminosity_Index',\n",
       "       'SigmoidOfAreas', 'Pastry', 'Z_Scratch', 'K_Scatch', 'Stains',\n",
       "       'Dirtiness', 'Bumps', 'Other_Faults'],\n",
       "      dtype='object')"
      ]
     },
     "execution_count": 4,
     "metadata": {},
     "output_type": "execute_result"
    }
   ],
   "source": [
    "train.columns"
   ]
  },
  {
   "cell_type": "code",
   "execution_count": 5,
   "id": "f573f406",
   "metadata": {},
   "outputs": [],
   "source": [
    "target_classes = ['Pastry', 'Z_Scratch', 'K_Scatch', 'Stains', 'Dirtiness', 'Bumps', 'Other_Faults']\n",
    "targets_bin = train[target_classes]"
   ]
  },
  {
   "cell_type": "code",
   "execution_count": 6,
   "id": "0df99837",
   "metadata": {},
   "outputs": [],
   "source": [
    "train = train.drop(target_classes, axis=1)"
   ]
  },
  {
   "cell_type": "code",
   "execution_count": 7,
   "id": "40f08a97",
   "metadata": {},
   "outputs": [
    {
     "data": {
      "text/plain": [
       "(19219,)"
      ]
     },
     "execution_count": 7,
     "metadata": {},
     "output_type": "execute_result"
    }
   ],
   "source": [
    "target = targets_bin @ (np.arange(targets_bin.shape[1]) + 1)\n",
    "target[targets_bin.sum(axis=1)==2] = 2\n",
    "target.shape"
   ]
  },
  {
   "cell_type": "code",
   "execution_count": 8,
   "id": "73097079",
   "metadata": {},
   "outputs": [
    {
     "data": {
      "text/plain": [
       "array([1, 2, 3, 4, 5, 6, 7])"
      ]
     },
     "execution_count": 8,
     "metadata": {},
     "output_type": "execute_result"
    }
   ],
   "source": [
    "np.arange(targets_bin.shape[1]) + 1"
   ]
  },
  {
   "cell_type": "code",
   "execution_count": 14,
   "id": "7b78eea5",
   "metadata": {},
   "outputs": [],
   "source": [
    "train = np.array(train)"
   ]
  },
  {
   "cell_type": "code",
   "execution_count": 15,
   "id": "b1bb3aa7",
   "metadata": {},
   "outputs": [],
   "source": [
    "kfold = StratifiedKFold(n_splits=5, random_state=42, shuffle=True)"
   ]
  },
  {
   "cell_type": "code",
   "execution_count": 16,
   "id": "4f5ffc6d",
   "metadata": {},
   "outputs": [
    {
     "ename": "ValueError",
     "evalue": "too many values to unpack (expected 2)",
     "output_type": "error",
     "traceback": [
      "\u001b[1;31m---------------------------------------------------------------------------\u001b[0m",
      "\u001b[1;31mValueError\u001b[0m                                Traceback (most recent call last)",
      "Cell \u001b[1;32mIn[16], line 1\u001b[0m\n\u001b[1;32m----> 1\u001b[0m train_idx, valid_idx \u001b[38;5;241m=\u001b[39m kfold\u001b[38;5;241m.\u001b[39msplit(train, target)\n",
      "\u001b[1;31mValueError\u001b[0m: too many values to unpack (expected 2)"
     ]
    }
   ],
   "source": [
    "train_idx, valid_idx = kfold.split(train, target)"
   ]
  },
  {
   "cell_type": "code",
   "execution_count": 17,
   "id": "2124e70f",
   "metadata": {},
   "outputs": [
    {
     "name": "stdout",
     "output_type": "stream",
     "text": [
      "[    0     2     3 ... 19212 19213 19217]\n",
      "[    1     2     3 ... 19216 19217 19218]\n",
      "[    0     1     2 ... 19216 19217 19218]\n",
      "[    0     1     3 ... 19216 19217 19218]\n",
      "[    0     1     2 ... 19215 19216 19218]\n"
     ]
    }
   ],
   "source": [
    "for i, (train_idx, valid_idx) in enumerate(kfold.split(train, target)):\n",
    "    print(train_idx)\n",
    "    \n",
    "    "
   ]
  },
  {
   "cell_type": "code",
   "execution_count": null,
   "id": "9ec3c05e",
   "metadata": {},
   "outputs": [
    {
     "name": "stderr",
     "output_type": "stream",
     "text": [
      "[I 2024-03-22 13:51:11,111] A new study created in memory with name: no-name-71d5557b-d33e-4a14-914e-15437d2295d4\n",
      "[I 2024-03-22 13:52:28,812] Trial 0 finished with value: 0.5424665221662149 and parameters: {'n_estimators': 375, 'max_depth': 30, 'max_features': 0.3999704427595234, 'max_samples': 0.6335746871202735, 'random_state': 50, 'n_jobs': 3}. Best is trial 0 with value: 0.5424665221662149.\n",
      "[I 2024-03-22 13:52:48,255] Trial 1 finished with value: 0.5414067934332669 and parameters: {'n_estimators': 150, 'max_depth': 40, 'max_features': 0.23699290481025265, 'max_samples': 0.7880248312751861, 'random_state': 50, 'n_jobs': 3}. Best is trial 1 with value: 0.5414067934332669.\n",
      "[I 2024-03-22 13:53:08,042] Trial 2 finished with value: 0.5352793437577562 and parameters: {'n_estimators': 175, 'max_depth': 46, 'max_features': 0.1902890648169292, 'max_samples': 0.8230379701907431, 'random_state': 50, 'n_jobs': 3}. Best is trial 2 with value: 0.5352793437577562.\n",
      "[I 2024-03-22 13:53:20,483] Trial 3 finished with value: 0.5455180888004256 and parameters: {'n_estimators': 175, 'max_depth': 44, 'max_features': 0.17141950493712158, 'max_samples': 0.5325815938262337, 'random_state': 50, 'n_jobs': 3}. Best is trial 2 with value: 0.5352793437577562.\n",
      "[I 2024-03-22 13:55:13,899] Trial 4 finished with value: 0.5480538961045268 and parameters: {'n_estimators': 400, 'max_depth': 17, 'max_features': 0.7686475941175556, 'max_samples': 0.5709192005753041, 'random_state': 50, 'n_jobs': 3}. Best is trial 2 with value: 0.5352793437577562.\n"
     ]
    }
   ],
   "source": [
    "for i, (train_idx, valid_idx) in enumerate(kfold.split(train, target)):\n",
    "    x_train_s , y_train_s = train[train_idx] , target[train_idx]\n",
    "    x_valid_s , y_valid_s = train[valid_idx] , target[valid_idx]\n",
    "    \n",
    "    def objective(trial):\n",
    "        params = {\n",
    "        'n_estimators' : trial.suggest_int('n_estimators', 100, 400, step=25),\n",
    "        'max_depth' : trial.suggest_int('max_depth', 15, 50),\n",
    "        'max_features' : trial.suggest_float('max_features', 0.1, 0.9),\n",
    "        'max_samples' : trial.suggest_float('max_samples', 0.5, 0.9),\n",
    "        'random_state' : trial.suggest_int('random_state', 50, 50),\n",
    "        'n_jobs' : trial.suggest_int('n_jobs', 3, 3)\n",
    "        }\n",
    "        model = RandomForestClassifier(**params)\n",
    "        model.fit(x_train_s, y_train_s.ravel())\n",
    "        yhat = model.predict(x_valid_s)\n",
    "        \n",
    "        return f1_score(y_valid_s, yhat, average='weighted')\n",
    "    \n",
    "    study = optuna.create_study()\n",
    "    study.optimize(objective, n_trials=10)\n",
    "    "
   ]
  },
  {
   "cell_type": "code",
   "execution_count": null,
   "id": "3ba2fa21",
   "metadata": {},
   "outputs": [],
   "source": [
    "RandomForestClassifier()"
   ]
  }
 ],
 "metadata": {
  "kernelspec": {
   "display_name": "Python 3 (ipykernel)",
   "language": "python",
   "name": "python3"
  },
  "language_info": {
   "codemirror_mode": {
    "name": "ipython",
    "version": 3
   },
   "file_extension": ".py",
   "mimetype": "text/x-python",
   "name": "python",
   "nbconvert_exporter": "python",
   "pygments_lexer": "ipython3",
   "version": "3.11.5"
  }
 },
 "nbformat": 4,
 "nbformat_minor": 5
}
